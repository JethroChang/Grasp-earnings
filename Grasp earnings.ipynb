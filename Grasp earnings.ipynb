{
 "cells": [
  {
   "cell_type": "code",
   "execution_count": 9,
   "metadata": {
    "collapsed": true
   },
   "outputs": [],
   "source": [
    "data_str = \"\"\"ncodeURIComponent:1\n",
    "step:1\n",
    "firstin:1\n",
    "off:1\n",
    "keyword4:\n",
    "code1:\n",
    "TYPEK2:\n",
    "checkbtn:\n",
    "queryName:co_id\n",
    "inpuType:co_id\n",
    "TYPEK:all\n",
    "isnew:true\n",
    "co_id:1102\n",
    "year:\n",
    "season:\"\"\""
   ]
  },
  {
   "cell_type": "code",
   "execution_count": 10,
   "metadata": {
    "collapsed": true
   },
   "outputs": [],
   "source": [
    "def str2dict(data_str):\n",
    "    data = {}\n",
    "    for row in data_str.split('\\n'):\n",
    "        kv_list = row.split(\":\")\n",
    "        data[kv_list[0]] = kv_list[1]\n",
    "    return data"
   ]
  },
  {
   "cell_type": "code",
   "execution_count": 11,
   "metadata": {
    "collapsed": true
   },
   "outputs": [],
   "source": [
    "data = str2dict(data_str)"
   ]
  },
  {
   "cell_type": "code",
   "execution_count": 12,
   "metadata": {},
   "outputs": [
    {
     "data": {
      "text/plain": [
       "{'TYPEK': 'all',\n",
       " 'TYPEK2': '',\n",
       " 'checkbtn': '',\n",
       " 'co_id': '1102',\n",
       " 'code1': '',\n",
       " 'firstin': '1',\n",
       " 'inpuType': 'co_id',\n",
       " 'isnew': 'true',\n",
       " 'keyword4': '',\n",
       " 'ncodeURIComponent': '1',\n",
       " 'off': '1',\n",
       " 'queryName': 'co_id',\n",
       " 'season': '',\n",
       " 'step': '1',\n",
       " 'year': ''}"
      ]
     },
     "execution_count": 12,
     "metadata": {},
     "output_type": "execute_result"
    }
   ],
   "source": [
    "str2dict(\"\"\"ncodeURIComponent:1\n",
    "step:1\n",
    "firstin:1\n",
    "off:1\n",
    "keyword4:\n",
    "code1:\n",
    "TYPEK2:\n",
    "checkbtn:\n",
    "queryName:co_id\n",
    "inpuType:co_id\n",
    "TYPEK:all\n",
    "isnew:true\n",
    "co_id:1102\n",
    "year:\n",
    "season:\"\"\")"
   ]
  },
  {
   "cell_type": "code",
   "execution_count": 20,
   "metadata": {
    "collapsed": true
   },
   "outputs": [],
   "source": [
    "import requests\n",
    "res = requests.post(\"http://mops.twse.com.tw/mops/web/ajax_t163sb01\",data=data)\n",
    "res.encoding = 'utf-8'"
   ]
  },
  {
   "cell_type": "code",
   "execution_count": 21,
   "metadata": {},
   "outputs": [
    {
     "data": {
      "text/plain": [
       "requests.models.Response"
      ]
     },
     "execution_count": 21,
     "metadata": {},
     "output_type": "execute_result"
    }
   ],
   "source": [
    "type(res)"
   ]
  },
  {
   "cell_type": "code",
   "execution_count": 22,
   "metadata": {},
   "outputs": [
    {
     "data": {
      "text/plain": [
       "<Response [200]>"
      ]
     },
     "execution_count": 22,
     "metadata": {},
     "output_type": "execute_result"
    }
   ],
   "source": [
    "res"
   ]
  },
  {
   "cell_type": "code",
   "execution_count": 23,
   "metadata": {},
   "outputs": [
    {
     "data": {
      "text/plain": [
       "'\\r\\n\\r\\n<html>\\r\\n<head>\\r\\n\\t<title>公開資訊觀測站</title>\\r\\n<!--\\t<link href=\"css/css1.css\" rel=\"stylesheet\" type=\"text/css\" Media=\"Screen\"/> -->\\r\\n<!--\\t<script type=\"text/javascript\" src=\"js/mops1.js\"></script> -->\\r\\n</head>\\r\\n\\r\\n<body>\\r\\n<form action=\\'/mops/web/ajax_t56sb31_q1\\' method=\\'post\\' onsubmit=\\'return false;\\' name=\\'fm\\'><input type=\\'hidden\\' name=\\'step\\' value=\\'2\\' /><input type=\\'hidden\\' name=\\'colorchg\\' value=\\'1\\' /><input type=\\'hidden\\' name=\\'TYPEK\\' value=\\'sii\\' /><input type=\\'hidden\\' name=\\'kind\\' value=\\'\\' /><input type=\\'hidden\\' name=\\'CID\\' value=\\'\\' /><input type=\\'hidden\\' name=\\'YEAR_SEASON\\' value=\\'\\' /><input type=\\'hidden\\' name=\\'RID\\' value=\\'\\' /><input type=\\'hidden\\' name=\\'SKEY\\' value=\\'\\' /><input type=\\'hidden\\' name=\\'DTYPE\\' value=\\'\\' /><input type=\\'hidden\\' name=\\'co_id\\' value=\\'1102\\' /><input type=\\'hidden\\' name=\\'firstin\\' value=\\'true\\' /><table class=\\'noBorder\\' width=\\'70%\\' align=\\'center\\' id=\\'col_Z_Y\\'><tr class=\\'reportCont\\'><td nowrap align=\\'right\\'>\\u3000合併財務報告-意見種類：</td><td align=\\'left\\'>保留式核閱報告--非重要子公司或採用權益法之投資未經會計師查核或核閱</td></tr><tr class=\\'reportCont\\'><td align=\\'right\\' nowrap>合併財務報告更(補)正：</td><td align=\\'left\\' nowrap>無</td></tr><table class=\\'noBorder\\' align=\\'center\\'><tr><td align=\\'center\\' class=\\'compName\\'>(上市公司)亞泥</td></tr><tr><td align=\\'center\\' class=\\'reportName\\'>１０６年第１季財務報告</td></tr></table><table class=\\'hasBorder\\' width=\\'70%\\' align=\\'center\\' id=\\'col_X\\'><tr class=\\'even\\'><th rowspan=\\'5\\' class=\\'tblHead\\' nowrap>說明：</th><th class=\\'tblHead\\'>一、</th><td width=500 style=\\'text-align:left !important;\\'>1. 本公司106年第1季合併財務報告，業經勤業眾信聯合會計師事務所郭俐雯暨范有偉會計師核閱竣事。\\r\\n2.如財務報表附註十五所述，民國106年及105年3月31日列入合併財務報表之非重要子公司財務報表未經會計師核閱，其民國106年及105年3月31日之資產總額分別為新台幣（以下同）50,569,992仟元及50,317,681仟元，各佔合併資產總額21%及20%；負債總額分別為20,768,775仟元及21,385,931仟元，各佔合併負債總額20%及20%；民國106年及105年1月1日至3月31日分別為綜合利益560,122仟元及綜合損失4,370,192仟元，各佔合併綜合損益總額(25%)及50%。又如合併財務報表附註十六所述，民國106年及105年3月31日採用權益法之投資餘額分別計14,585,988仟元及14,767,250仟元，及其相關採用權益法認列之關聯企業及合資綜合利益205,228仟元及綜合損失423,735仟元，係根據被投資公司同期間未經會計師核閱之財務報表認列。另合併財務報表附註四二所揭露與前述子公司及被投資公司有關之資訊亦未經會計師核閱。\\r\\n\\u3000\\u3000依本會計師核閱結果，除上段所述該等子公司及被投資公司財務報表倘經會計師核閱，對合併財務報表可能有所調整之影響外，並未發現第一段所述民國106及105年第1季合併財務報表在所有重大方面有違反證券發行人財務報告編製準則及經金融監督管理委員會認可並發布生效之國際會計準則第34號「期中財務報導」而須作修正之情事。</td></tr><tr class=\\'odd\\'><th class=\\'tblHead\\'>二、</th><td width=500 style=\\'text-align:left !important;\\'>前項經會計師核閱之財務報告已備置於本公司，供股東查閱或抄錄。</td></tr><tr class=\\'even\\'><th class=\\'tblHead\\'>三、</th><td width=500 style=\\'text-align:left !important;\\'>茲依證券交易法第三十六條之規定公告。</td></tr><tr class=\\'odd\\'></tr></table><table class=\\'noBorder\\' align=\\'center\\'><tr><td class=\\'note\\' align=\\'center\\'>（會計師查核（核閱）之財務報告已備置公司供股東查閱或抄錄）</td></tr></table><br><table class=\\'noBorder\\' width=\\'70%\\' align=\\'center\\' id=\\'col_R\\'><tr><td>該公司毋需出具個別財務報告</td></tr></table><table class=\\'noBorder\\' align=\\'center\\'><tr><td align=\\'center\\' class=\\'compName\\'>亞泥</td></tr><tr><td align=\\'center\\' class=\\'reportName\\'>簡明合併資產負債表</td></tr></table><table class=\\'noBorder\\' align=\\'center\\' width=\\'70%\\'><tr class=\\'tblHead\\'><td colspan=\\'2\\' align=\\'left\\'>中華民國106年03月31日</td><td colspan=\\'2\\' align=\\'right\\'>單位：新台幣仟元</td></tr></table><table class=\\'hasBorder\\' align=\\'center\\' width=\\'70%\\'><tr class=\\'tblHead\\'><td>會計項目</td><td>金額</td><td>%</td></tr><tr class=\\'even\\'><td align=\\'left\\'>流動資產</td><td align=\\'right\\'>44,074,607</td><td align=\\'right\\'>18.17</td></tr><tr class=\\'even\\'><td align=\\'left\\'>非流動資產</td><td align=\\'right\\'>198,481,250</td><td align=\\'right\\'>81.83</td></tr><tr class=\\'odd\\'><td align=\\'left\\'>資產總計</td><td align=\\'right\\'>242,555,857</td><td align=\\'right\\'>100.00</td></tr><tr class=\\'odd\\'><td align=\\'left\\'>流動負債</td><td align=\\'right\\'>49,363,721</td><td align=\\'right\\'>20.35</td></tr><tr class=\\'odd\\'><td align=\\'left\\'>非流動負債</td><td align=\\'right\\'>54,818,688</td><td align=\\'right\\'>22.60</td></tr><tr class=\\'even\\'><td align=\\'left\\'>負債總計</td><td align=\\'right\\'>104,182,409</td><td align=\\'right\\'>42.95</td></tr><tr class=\\'odd\\'><td align=\\'left\\'>股本</td><td align=\\'right\\'>33,614,472</td><td align=\\'right\\'>13.86</td></tr><tr class=\\'odd\\'><td align=\\'left\\'>資本公積</td><td align=\\'right\\'>1,167,882</td><td align=\\'right\\'>0.48</td></tr><tr class=\\'even\\'><td align=\\'left\\'>保留盈餘</td><td align=\\'right\\'>91,831,621</td><td align=\\'right\\'>37.86</td></tr><tr class=\\'even\\'><td align=\\'left\\'>其他權益</td><td align=\\'right\\'>-5,393,600</td><td align=\\'right\\'>-2.22</td></tr><tr class=\\'odd\\'><td align=\\'left\\'>庫藏股票</td><td align=\\'right\\'>-</td><td align=\\'right\\'>-</td></tr><tr class=\\'even\\'><td align=\\'left\\'>歸屬於母公司業主之權益合計</td><td align=\\'right\\'>121,220,375</td><td align=\\'right\\'>49.98</td></tr><tr class=\\'odd\\'><td align=\\'left\\'>共同控制下前手權益</td><td align=\\'right\\'>0</td><td align=\\'right\\'>0.00</td></tr><tr class=\\'even\\'><td align=\\'left\\'>非控制權益</td><td align=\\'right\\'>17,153,073</td><td align=\\'right\\'>7.07</td></tr><tr class=\\'odd\\'><td align=\\'left\\'>權益總計</td><td align=\\'right\\'>138,373,448</td><td align=\\'right\\'>57.05</td></tr><tr class=\\'odd\\'><td align=\\'left\\'>待註銷股本股數（單位：股）</td><td align=\\'right\\'>-</td><td align=\\'right\\'>&nbsp;</td></tr><tr class=\\'even\\'><td align=\\'left\\'>預收股款（權益項下）之約當發行股數（單位：股）</td><td align=\\'right\\'>0</td><td align=\\'right\\'>&nbsp;</td></tr><tr class=\\'odd\\'><td align=\\'left\\'>母公司暨子公司所持有之母公司庫藏股股數（單位：股）</td><td align=\\'right\\'>0</td><td align=\\'right\\'>&nbsp;</td></tr><tr class=\\'even\\'><td align=\\'left\\'>每股淨值（元）＝（權益－非控制權益）／（普通股股數＋特別股股數（權益項下）＋預收股款（權益項下）之約當發行股數－母公司暨子公司持有之母公司庫藏股股數－待註銷股本股數）</td><td align=\\'right\\'>36.06</td><td>&nbsp;</td></tr></table><br><div class=\\'note\\' style=\\'text-align:left;padding-left:3em;text-indent:-3em;color:#009;\\'>附註：1.上開「每股淨值」之計算公式自95年第4季起適用，與95年第3季以前採用之「每股淨值」(未考量預收股款約當發行股數影響)及93年第3季以前採用之「每股參考淨值」(未考量庫藏股及預收股款約當發行股數影響）計算公式略有差異，特此說明。<br>2.投資人若需了解更詳細資訊可至<a target=\\'_blank\\' style=\\'color:violet;font-size:13px;font-weight:bold;font-family:Arial, Helvetica, Sans-serif,\"宋體\";text-decoration:underline;\\' href=\\'/server-java/t164sb01?step=1&CO_ID=1102&SYEAR=2017&SSEASON=1&REPORT_ID=C\\'>XBRL資訊平台</a>或<a target=\\'_blank\\' style=\\'color:violet;font-size:13px;font-weight:bold;font-family:Arial, Helvetica, Sans-serif,\"宋體\";text-decoration:underline;\\' href=\\'http://doc.twse.com.tw/server-java/t57sb01?step=1&colorchg=1&co_id=1102&year=106&seamon=&mtype=A&\\'>電子書查詢</a></div><table class=\\'noBorder\\' align=\\'center\\'><tr><td align=\\'center\\' class=\\'compName\\'>亞泥</td></tr><tr><td align=\\'center\\' class=\\'reportName\\'>簡明合併綜合損益表</td></tr></table><table class=\\'noBorder\\' align=\\'center\\' width=\\'70%\\'><tr class=\\'tblHead\\'><td colspan=\\'4\\' align=\\'left\\'>中華民國106年01月01日至106年03月31日</td><td colspan=\\'2\\' align=\\'right\\'>單位：新台幣仟元</td></table><table class=\\'hasBorder\\' align=\\'center\\' width=\\'70%\\'><tr class=\\'tblHead\\'><td>會計項目</td><td>金額</td><td>預測金額</td><td>年度財務預測達成率%</td><td>截至第1季止財務預測季達成率%</td></tr><tr class=\\'even\\'><td align=\\'left\\'>營業收入</td><td align=\\'right\\'>12,512,699</td><td align=\\'right\\'>-</td><td align=\\'right\\'>-</td><td align=\\'right\\'>-</td></tr><tr class=\\'even\\'><td align=\\'left\\'>營業成本</td><td align=\\'right\\'>11,579,630</td><td align=\\'right\\'>-</td><td align=\\'right\\'>-</td><td align=\\'right\\'>-</td></tr><tr class=\\'odd\\'><td align=\\'left\\'>原始認列生物資產及農產品之利益（損失）</td><td align=\\'right\\'>-</td><td align=\\'right\\'>-</td><td align=\\'right\\'>-</td><td align=\\'right\\'>-</td></tr><tr class=\\'even\\'><td align=\\'left\\'>生物資產當期公允價值減出售成本之變動利益（損失）</td><td align=\\'right\\'>-</td><td align=\\'right\\'>-</td><td align=\\'right\\'>-</td><td align=\\'right\\'>-</td></tr><tr class=\\'odd\\'><td align=\\'left\\'>營業毛利（毛損）</td><td align=\\'right\\'>933,069</td><td align=\\'right\\'>-</td><td align=\\'right\\'>-</td><td align=\\'right\\'>-</td></tr><tr class=\\'even\\'><td align=\\'left\\'>未實現銷貨（損）益</td><td align=\\'right\\'>859</td><td align=\\'right\\'>-</td><td align=\\'right\\'>-</td><td align=\\'right\\'>-</td></tr><tr class=\\'odd\\'><td align=\\'left\\'>已實現銷貨（損）益</td><td align=\\'right\\'>0</td><td align=\\'right\\'>-</td><td align=\\'right\\'>-</td><td align=\\'right\\'>-</td></tr><tr class=\\'even\\'><td align=\\'left\\'>營業毛利（毛損）淨額</td><td align=\\'right\\'>932,210</td><td align=\\'right\\'>-</td><td align=\\'right\\'>-</td><td align=\\'right\\'>-</td></tr><tr class=\\'even\\'><td align=\\'left\\'>營業費用</td><td align=\\'right\\'>489,990</td><td align=\\'right\\'>-</td><td align=\\'right\\'>-</td><td align=\\'right\\'>-</td></tr><tr class=\\'even\\'><td align=\\'left\\'>其他收益及費損淨額</td><td align=\\'right\\'>-</td><td align=\\'right\\'>-</td><td align=\\'right\\'>-</td><td align=\\'right\\'>-</td></tr><tr class=\\'odd\\'><td align=\\'left\\'>營業利益（損失）</td><td align=\\'right\\'>442,220</td><td align=\\'right\\'>-</td><td align=\\'right\\'>-</td><td align=\\'right\\'>-</td></tr><tr class=\\'odd\\'><td align=\\'left\\'>營業外收入及支出</td><td align=\\'right\\'>-321,539</td><td align=\\'right\\'>-</td><td align=\\'right\\'>-</td><td align=\\'right\\'>-</td></tr><tr class=\\'even\\'><td align=\\'left\\'>稅前淨利（淨損）</td><td align=\\'right\\'>120,681</td><td align=\\'right\\'>-</td><td align=\\'right\\'>-</td><td align=\\'right\\'>-</td></tr><tr class=\\'even\\'><td align=\\'left\\'>所得稅費用（利益）</td><td align=\\'right\\'>-25,112</td><td align=\\'right\\'>-</td><td align=\\'right\\'>-</td><td align=\\'right\\'>-</td></tr><tr class=\\'odd\\'><td align=\\'left\\'>繼續營業單位本期淨利（淨損）</td><td align=\\'right\\'>145,793</td><td align=\\'right\\'>-</td><td align=\\'right\\'>-</td><td align=\\'right\\'>-</td></tr><tr class=\\'even\\'><td align=\\'left\\'>停業單位損益</td><td align=\\'right\\'>-</td><td align=\\'right\\'>-</td><td align=\\'right\\'>-</td><td align=\\'right\\'>-</td></tr><tr class=\\'odd\\'><td align=\\'left\\'>本期淨利（淨損）</td><td align=\\'right\\'>145,793</td><td align=\\'right\\'>-</td><td align=\\'right\\'>-</td><td align=\\'right\\'>-</td></tr><tr class=\\'even\\'><td align=\\'left\\'>其他綜合損益（淨額）</td><td align=\\'right\\'>-2,431,094</td><td align=\\'right\\'>-</td><td align=\\'right\\'>-</td><td align=\\'right\\'>-</td></tr><tr class=\\'odd\\'><td align=\\'left\\'>本期綜合損益總額</td><td align=\\'right\\'>-2,285,301</td><td align=\\'right\\'>-</td><td align=\\'right\\'>-</td><td align=\\'right\\'>-</td></tr><tr class=\\'odd\\'><td align=\\'left\\'>淨利（淨損）歸屬於母公司業主</td><td align=\\'right\\'>236,681</td><td align=\\'right\\'>-</td><td align=\\'right\\'>-</td><td align=\\'right\\'>-</td></tr><tr class=\\'even\\'><td align=\\'left\\'>淨利（淨損）歸屬於共同控制下前手權益</td><td align=\\'right\\'>-</td><td align=\\'right\\'>-</td><td align=\\'right\\'>-</td><td align=\\'right\\'>-</td></tr><tr class=\\'odd\\'><td align=\\'left\\'>淨利（淨損）歸屬於非控制權益</td><td align=\\'right\\'>-90,888</td><td align=\\'right\\'>-</td><td align=\\'right\\'>-</td><td align=\\'right\\'>-</td></tr><tr class=\\'odd\\'><td align=\\'left\\'>綜合損益總額歸屬於母公司業主</td><td align=\\'right\\'>-1,438,230</td><td align=\\'right\\'>-</td><td align=\\'right\\'>-</td><td align=\\'right\\'>-</td></tr><tr class=\\'even\\'><td align=\\'left\\'>綜合損益總額歸屬於共同控制下前手權益</td><td align=\\'right\\'>-</td><td align=\\'right\\'>-</td><td align=\\'right\\'>-</td><td align=\\'right\\'>-</td></tr><tr class=\\'odd\\'><td align=\\'left\\'>綜合損益總額歸屬於非控制權益</td><td align=\\'right\\'>-847,071</td><td align=\\'right\\'>-</td><td align=\\'right\\'>-</td><td align=\\'right\\'>-</td></tr><tr class=\\'odd\\'><td align=\\'left\\'>基本每股盈餘（元）</td><td align=\\'right\\'>0.08</td><td align=\\'right\\'>-</td><td align=\\'right\\'>-</td><td align=\\'right\\'>-</td></tr></table><br><div class=\\'note\\' style=\\'text-align:left;padding-left:3em;text-indent:-3em;color:#009;\\'>附註：投資人若需了解更詳細資訊可至<a target=\\'_blank\\' style=\\'color:violet;font-size:13px;font-weight:bold;font-family:Arial, Helvetica, Sans-serif,\"宋體\";text-decoration:underline;\\' href=\\'/server-java/t164sb01?step=1&CO_ID=1102&SYEAR=2017&SSEASON=1&REPORT_ID=C\\'>XBRL資訊平台</a>或<a target=\\'_blank\\' style=\\'color:violet;font-size:13px;font-weight:bold;font-family:Arial, Helvetica, Sans-serif,\"宋體\";text-decoration:underline;\\' href=\\'http://doc.twse.com.tw/server-java/t57sb01?step=1&colorchg=1&co_id=1102&year=106&seamon=&mtype=A&\\'>電子書查詢</a></div>\\n\\r\\n</body>\\r\\n</html>\\r\\n'"
      ]
     },
     "execution_count": 23,
     "metadata": {},
     "output_type": "execute_result"
    }
   ],
   "source": [
    "res.text"
   ]
  },
  {
   "cell_type": "code",
   "execution_count": 25,
   "metadata": {},
   "outputs": [
    {
     "name": "stdout",
     "output_type": "stream",
     "text": [
      "Requirement already satisfied: beautifulsoup4 in /home/ubuntu/.pyenv/versions/3.6.1/lib/python3.6/site-packages\r\n"
     ]
    }
   ],
   "source": [
    "!pip install beautifulsoup4"
   ]
  },
  {
   "cell_type": "code",
   "execution_count": 26,
   "metadata": {
    "collapsed": true
   },
   "outputs": [],
   "source": [
    "from bs4 import BeautifulSoup"
   ]
  },
  {
   "cell_type": "code",
   "execution_count": 27,
   "metadata": {
    "collapsed": true
   },
   "outputs": [],
   "source": [
    "soup = BeautifulSoup(res.text, 'lxml')"
   ]
  },
  {
   "cell_type": "code",
   "execution_count": 33,
   "metadata": {},
   "outputs": [
    {
     "data": {
      "text/plain": [
       "[<table align=\"center\" class=\"hasBorder\" id=\"col_X\" width=\"70%\"><tr class=\"even\"><th class=\"tblHead\" nowrap=\"\" rowspan=\"5\">說明：</th><th class=\"tblHead\">一、</th><td style=\"text-align:left !important;\" width=\"500\">1. 本公司106年第1季合併財務報告，業經勤業眾信聯合會計師事務所郭俐雯暨范有偉會計師核閱竣事。\n",
       " 2.如財務報表附註十五所述，民國106年及105年3月31日列入合併財務報表之非重要子公司財務報表未經會計師核閱，其民國106年及105年3月31日之資產總額分別為新台幣（以下同）50,569,992仟元及50,317,681仟元，各佔合併資產總額21%及20%；負債總額分別為20,768,775仟元及21,385,931仟元，各佔合併負債總額20%及20%；民國106年及105年1月1日至3月31日分別為綜合利益560,122仟元及綜合損失4,370,192仟元，各佔合併綜合損益總額(25%)及50%。又如合併財務報表附註十六所述，民國106年及105年3月31日採用權益法之投資餘額分別計14,585,988仟元及14,767,250仟元，及其相關採用權益法認列之關聯企業及合資綜合利益205,228仟元及綜合損失423,735仟元，係根據被投資公司同期間未經會計師核閱之財務報表認列。另合併財務報表附註四二所揭露與前述子公司及被投資公司有關之資訊亦未經會計師核閱。\n",
       " 　　依本會計師核閱結果，除上段所述該等子公司及被投資公司財務報表倘經會計師核閱，對合併財務報表可能有所調整之影響外，並未發現第一段所述民國106及105年第1季合併財務報表在所有重大方面有違反證券發行人財務報告編製準則及經金融監督管理委員會認可並發布生效之國際會計準則第34號「期中財務報導」而須作修正之情事。</td></tr><tr class=\"odd\"><th class=\"tblHead\">二、</th><td style=\"text-align:left !important;\" width=\"500\">前項經會計師核閱之財務報告已備置於本公司，供股東查閱或抄錄。</td></tr><tr class=\"even\"><th class=\"tblHead\">三、</th><td style=\"text-align:left !important;\" width=\"500\">茲依證券交易法第三十六條之規定公告。</td></tr><tr class=\"odd\"></tr></table>,\n",
       " <table align=\"center\" class=\"hasBorder\" width=\"70%\"><tr class=\"tblHead\"><td>會計項目</td><td>金額</td><td>%</td></tr><tr class=\"even\"><td align=\"left\">流動資產</td><td align=\"right\">44,074,607</td><td align=\"right\">18.17</td></tr><tr class=\"even\"><td align=\"left\">非流動資產</td><td align=\"right\">198,481,250</td><td align=\"right\">81.83</td></tr><tr class=\"odd\"><td align=\"left\">資產總計</td><td align=\"right\">242,555,857</td><td align=\"right\">100.00</td></tr><tr class=\"odd\"><td align=\"left\">流動負債</td><td align=\"right\">49,363,721</td><td align=\"right\">20.35</td></tr><tr class=\"odd\"><td align=\"left\">非流動負債</td><td align=\"right\">54,818,688</td><td align=\"right\">22.60</td></tr><tr class=\"even\"><td align=\"left\">負債總計</td><td align=\"right\">104,182,409</td><td align=\"right\">42.95</td></tr><tr class=\"odd\"><td align=\"left\">股本</td><td align=\"right\">33,614,472</td><td align=\"right\">13.86</td></tr><tr class=\"odd\"><td align=\"left\">資本公積</td><td align=\"right\">1,167,882</td><td align=\"right\">0.48</td></tr><tr class=\"even\"><td align=\"left\">保留盈餘</td><td align=\"right\">91,831,621</td><td align=\"right\">37.86</td></tr><tr class=\"even\"><td align=\"left\">其他權益</td><td align=\"right\">-5,393,600</td><td align=\"right\">-2.22</td></tr><tr class=\"odd\"><td align=\"left\">庫藏股票</td><td align=\"right\">-</td><td align=\"right\">-</td></tr><tr class=\"even\"><td align=\"left\">歸屬於母公司業主之權益合計</td><td align=\"right\">121,220,375</td><td align=\"right\">49.98</td></tr><tr class=\"odd\"><td align=\"left\">共同控制下前手權益</td><td align=\"right\">0</td><td align=\"right\">0.00</td></tr><tr class=\"even\"><td align=\"left\">非控制權益</td><td align=\"right\">17,153,073</td><td align=\"right\">7.07</td></tr><tr class=\"odd\"><td align=\"left\">權益總計</td><td align=\"right\">138,373,448</td><td align=\"right\">57.05</td></tr><tr class=\"odd\"><td align=\"left\">待註銷股本股數（單位：股）</td><td align=\"right\">-</td><td align=\"right\"> </td></tr><tr class=\"even\"><td align=\"left\">預收股款（權益項下）之約當發行股數（單位：股）</td><td align=\"right\">0</td><td align=\"right\"> </td></tr><tr class=\"odd\"><td align=\"left\">母公司暨子公司所持有之母公司庫藏股股數（單位：股）</td><td align=\"right\">0</td><td align=\"right\"> </td></tr><tr class=\"even\"><td align=\"left\">每股淨值（元）＝（權益－非控制權益）／（普通股股數＋特別股股數（權益項下）＋預收股款（權益項下）之約當發行股數－母公司暨子公司持有之母公司庫藏股股數－待註銷股本股數）</td><td align=\"right\">36.06</td><td> </td></tr></table>,\n",
       " <table align=\"center\" class=\"hasBorder\" width=\"70%\"><tr class=\"tblHead\"><td>會計項目</td><td>金額</td><td>預測金額</td><td>年度財務預測達成率%</td><td>截至第1季止財務預測季達成率%</td></tr><tr class=\"even\"><td align=\"left\">營業收入</td><td align=\"right\">12,512,699</td><td align=\"right\">-</td><td align=\"right\">-</td><td align=\"right\">-</td></tr><tr class=\"even\"><td align=\"left\">營業成本</td><td align=\"right\">11,579,630</td><td align=\"right\">-</td><td align=\"right\">-</td><td align=\"right\">-</td></tr><tr class=\"odd\"><td align=\"left\">原始認列生物資產及農產品之利益（損失）</td><td align=\"right\">-</td><td align=\"right\">-</td><td align=\"right\">-</td><td align=\"right\">-</td></tr><tr class=\"even\"><td align=\"left\">生物資產當期公允價值減出售成本之變動利益（損失）</td><td align=\"right\">-</td><td align=\"right\">-</td><td align=\"right\">-</td><td align=\"right\">-</td></tr><tr class=\"odd\"><td align=\"left\">營業毛利（毛損）</td><td align=\"right\">933,069</td><td align=\"right\">-</td><td align=\"right\">-</td><td align=\"right\">-</td></tr><tr class=\"even\"><td align=\"left\">未實現銷貨（損）益</td><td align=\"right\">859</td><td align=\"right\">-</td><td align=\"right\">-</td><td align=\"right\">-</td></tr><tr class=\"odd\"><td align=\"left\">已實現銷貨（損）益</td><td align=\"right\">0</td><td align=\"right\">-</td><td align=\"right\">-</td><td align=\"right\">-</td></tr><tr class=\"even\"><td align=\"left\">營業毛利（毛損）淨額</td><td align=\"right\">932,210</td><td align=\"right\">-</td><td align=\"right\">-</td><td align=\"right\">-</td></tr><tr class=\"even\"><td align=\"left\">營業費用</td><td align=\"right\">489,990</td><td align=\"right\">-</td><td align=\"right\">-</td><td align=\"right\">-</td></tr><tr class=\"even\"><td align=\"left\">其他收益及費損淨額</td><td align=\"right\">-</td><td align=\"right\">-</td><td align=\"right\">-</td><td align=\"right\">-</td></tr><tr class=\"odd\"><td align=\"left\">營業利益（損失）</td><td align=\"right\">442,220</td><td align=\"right\">-</td><td align=\"right\">-</td><td align=\"right\">-</td></tr><tr class=\"odd\"><td align=\"left\">營業外收入及支出</td><td align=\"right\">-321,539</td><td align=\"right\">-</td><td align=\"right\">-</td><td align=\"right\">-</td></tr><tr class=\"even\"><td align=\"left\">稅前淨利（淨損）</td><td align=\"right\">120,681</td><td align=\"right\">-</td><td align=\"right\">-</td><td align=\"right\">-</td></tr><tr class=\"even\"><td align=\"left\">所得稅費用（利益）</td><td align=\"right\">-25,112</td><td align=\"right\">-</td><td align=\"right\">-</td><td align=\"right\">-</td></tr><tr class=\"odd\"><td align=\"left\">繼續營業單位本期淨利（淨損）</td><td align=\"right\">145,793</td><td align=\"right\">-</td><td align=\"right\">-</td><td align=\"right\">-</td></tr><tr class=\"even\"><td align=\"left\">停業單位損益</td><td align=\"right\">-</td><td align=\"right\">-</td><td align=\"right\">-</td><td align=\"right\">-</td></tr><tr class=\"odd\"><td align=\"left\">本期淨利（淨損）</td><td align=\"right\">145,793</td><td align=\"right\">-</td><td align=\"right\">-</td><td align=\"right\">-</td></tr><tr class=\"even\"><td align=\"left\">其他綜合損益（淨額）</td><td align=\"right\">-2,431,094</td><td align=\"right\">-</td><td align=\"right\">-</td><td align=\"right\">-</td></tr><tr class=\"odd\"><td align=\"left\">本期綜合損益總額</td><td align=\"right\">-2,285,301</td><td align=\"right\">-</td><td align=\"right\">-</td><td align=\"right\">-</td></tr><tr class=\"odd\"><td align=\"left\">淨利（淨損）歸屬於母公司業主</td><td align=\"right\">236,681</td><td align=\"right\">-</td><td align=\"right\">-</td><td align=\"right\">-</td></tr><tr class=\"even\"><td align=\"left\">淨利（淨損）歸屬於共同控制下前手權益</td><td align=\"right\">-</td><td align=\"right\">-</td><td align=\"right\">-</td><td align=\"right\">-</td></tr><tr class=\"odd\"><td align=\"left\">淨利（淨損）歸屬於非控制權益</td><td align=\"right\">-90,888</td><td align=\"right\">-</td><td align=\"right\">-</td><td align=\"right\">-</td></tr><tr class=\"odd\"><td align=\"left\">綜合損益總額歸屬於母公司業主</td><td align=\"right\">-1,438,230</td><td align=\"right\">-</td><td align=\"right\">-</td><td align=\"right\">-</td></tr><tr class=\"even\"><td align=\"left\">綜合損益總額歸屬於共同控制下前手權益</td><td align=\"right\">-</td><td align=\"right\">-</td><td align=\"right\">-</td><td align=\"right\">-</td></tr><tr class=\"odd\"><td align=\"left\">綜合損益總額歸屬於非控制權益</td><td align=\"right\">-847,071</td><td align=\"right\">-</td><td align=\"right\">-</td><td align=\"right\">-</td></tr><tr class=\"odd\"><td align=\"left\">基本每股盈餘（元）</td><td align=\"right\">0.08</td><td align=\"right\">-</td><td align=\"right\">-</td><td align=\"right\">-</td></tr></table>]"
      ]
     },
     "execution_count": 33,
     "metadata": {},
     "output_type": "execute_result"
    }
   ],
   "source": [
    "soup.select(\".hasBorder\")"
   ]
  },
  {
   "cell_type": "code",
   "execution_count": 65,
   "metadata": {},
   "outputs": [
    {
     "name": "stdout",
     "output_type": "stream",
     "text": [
      "說明：一、1. 本公司106年第1季合併財務報告，業經勤業眾信聯合會計師事務所郭俐雯暨范有偉會計師核閱竣事。\r\n",
      "2.如財務報表附註十五所述，民國106年及105年3月31日列入合併財務報表之非重要子公司財務報表未經會計師核閱，其民國106年及105年3月31日之資產總額分別為新台幣（以下同）50,569,992仟元及50,317,681仟元，各佔合併資產總額21%及20%；負債總額分別為20,768,775仟元及21,385,931仟元，各佔合併負債總額20%及20%；民國106年及105年1月1日至3月31日分別為綜合利益560,122仟元及綜合損失4,370,192仟元，各佔合併綜合損益總額(25%)及50%。又如合併財務報表附註十六所述，民國106年及105年3月31日採用權益法之投資餘額分別計14,585,988仟元及14,767,250仟元，及其相關採用權益法認列之關聯企業及合資綜合利益205,228仟元及綜合損失423,735仟元，係根據被投資公司同期間未經會計師核閱之財務報表認列。另合併財務報表附註四二所揭露與前述子公司及被投資公司有關之資訊亦未經會計師核閱。\r\n",
      "　　依本會計師核閱結果，除上段所述該等子公司及被投資公司財務報表倘經會計師核閱，對合併財務報表可能有所調整之影響外，並未發現第一段所述民國106及105年第1季合併財務報表在所有重大方面有違反證券發行人財務報告編製準則及經金融監督管理委員會認可並發布生效之國際會計準則第34號「期中財務報導」而須作修正之情事。二、前項經會計師核閱之財務報告已備置於本公司，供股東查閱或抄錄。三、茲依證券交易法第三十六條之規定公告。\n",
      "會計項目金額%流動資產44,074,60718.17非流動資產198,481,25081.83資產總計242,555,857100.00流動負債49,363,72120.35非流動負債54,818,68822.60負債總計104,182,40942.95股本33,614,47213.86資本公積1,167,8820.48保留盈餘91,831,62137.86其他權益-5,393,600-2.22庫藏股票--歸屬於母公司業主之權益合計121,220,37549.98共同控制下前手權益00.00非控制權益17,153,0737.07權益總計138,373,44857.05待註銷股本股數（單位：股）- 預收股款（權益項下）之約當發行股數（單位：股）0 母公司暨子公司所持有之母公司庫藏股股數（單位：股）0 每股淨值（元）＝（權益－非控制權益）／（普通股股數＋特別股股數（權益項下）＋預收股款（權益項下）之約當發行股數－母公司暨子公司持有之母公司庫藏股股數－待註銷股本股數）36.06 \n",
      "會計項目金額預測金額年度財務預測達成率%截至第1季止財務預測季達成率%營業收入12,512,699---營業成本11,579,630---原始認列生物資產及農產品之利益（損失）----生物資產當期公允價值減出售成本之變動利益（損失）----營業毛利（毛損）933,069---未實現銷貨（損）益859---已實現銷貨（損）益0---營業毛利（毛損）淨額932,210---營業費用489,990---其他收益及費損淨額----營業利益（損失）442,220---營業外收入及支出-321,539---稅前淨利（淨損）120,681---所得稅費用（利益）-25,112---繼續營業單位本期淨利（淨損）145,793---停業單位損益----本期淨利（淨損）145,793---其他綜合損益（淨額）-2,431,094---本期綜合損益總額-2,285,301---淨利（淨損）歸屬於母公司業主236,681---淨利（淨損）歸屬於共同控制下前手權益----淨利（淨損）歸屬於非控制權益-90,888---綜合損益總額歸屬於母公司業主-1,438,230---綜合損益總額歸屬於共同控制下前手權益----綜合損益總額歸屬於非控制權益-847,071---基本每股盈餘（元）0.08---\n"
     ]
    },
    {
     "data": {
      "text/plain": [
       "'說明：一、1. 本公司106年第1季合併財務報告，業經勤業眾信聯合會計師事務所郭俐雯暨范有偉會計師核閱竣事。\\r\\n2.如財務報表附註十五所述，民國106年及105年3月31日列入合併財務報表之非重要子公司財務報表未經會計師核閱，其民國106年及105年3月31日之資產總額分別為新台幣（以下同）50,569,992仟元及50,317,681仟元，各佔合併資產總額21%及20%；負債總額分別為20,768,775仟元及21,385,931仟元，各佔合併負債總額20%及20%；民國106年及105年1月1日至3月31日分別為綜合利益560,122仟元及綜合損失4,370,192仟元，各佔合併綜合損益總額(25%)及50%。又如合併財務報表附註十六所述，民國106年及105年3月31日採用權益法之投資餘額分別計14,585,988仟元及14,767,250仟元，及其相關採用權益法認列之關聯企業及合資綜合利益205,228仟元及綜合損失423,735仟元，係根據被投資公司同期間未經會計師核閱之財務報表認列。另合併財務報表附註四二所揭露與前述子公司及被投資公司有關之資訊亦未經會計師核閱。\\r\\n\\u3000\\u3000依本會計師核閱結果，除上段所述該等子公司及被投資公司財務報表倘經會計師核閱，對合併財務報表可能有所調整之影響外，並未發現第一段所述民國106及105年第1季合併財務報表在所有重大方面有違反證券發行人財務報告編製準則及經金融監督管理委員會認可並發布生效之國際會計準則第34號「期中財務報導」而須作修正之情事。二、前項經會計師核閱之財務報告已備置於本公司，供股東查閱或抄錄。三、茲依證券交易法第三十六條之規定公告。 會計項目金額%流動資產44,074,60718.17非流動資產198,481,25081.83資產總計242,555,857100.00流動負債49,363,72120.35非流動負債54,818,68822.60負債總計104,182,40942.95股本33,614,47213.86資本公積1,167,8820.48保留盈餘91,831,62137.86其他權益-5,393,600-2.22庫藏股票--歸屬於母公司業主之權益合計121,220,37549.98共同控制下前手權益00.00非控制權益17,153,0737.07權益總計138,373,44857.05待註銷股本股數（單位：股）-\\xa0預收股款（權益項下）之約當發行股數（單位：股）0\\xa0母公司暨子公司所持有之母公司庫藏股股數（單位：股）0\\xa0每股淨值（元）＝（權益－非控制權益）／（普通股股數＋特別股股數（權益項下）＋預收股款（權益項下）之約當發行股數－母公司暨子公司持有之母公司庫藏股股數－待註銷股本股數）36.06 會計項目金額預測金額年度財務預測達成率%截至第1季止財務預測季達成率%營業收入12,512,699---營業成本11,579,630---原始認列生物資產及農產品之利益（損失）----生物資產當期公允價值減出售成本之變動利益（損失）----營業毛利（毛損）933,069---未實現銷貨（損）益859---已實現銷貨（損）益0---營業毛利（毛損）淨額932,210---營業費用489,990---其他收益及費損淨額----營業利益（損失）442,220---營業外收入及支出-321,539---稅前淨利（淨損）120,681---所得稅費用（利益）-25,112---繼續營業單位本期淨利（淨損）145,793---停業單位損益----本期淨利（淨損）145,793---其他綜合損益（淨額）-2,431,094---本期綜合損益總額-2,285,301---淨利（淨損）歸屬於母公司業主236,681---淨利（淨損）歸屬於共同控制下前手權益----淨利（淨損）歸屬於非控制權益-90,888---綜合損益總額歸屬於母公司業主-1,438,230---綜合損益總額歸屬於共同控制下前手權益----綜合損益總額歸屬於非控制權益-847,071---基本每股盈餘（元）0.08---'"
      ]
     },
     "execution_count": 65,
     "metadata": {},
     "output_type": "execute_result"
    }
   ],
   "source": [
    "abc = []\n",
    "for tr in soup.select(\".hasBorder\"):\n",
    "    print(tr.text)\n",
    "    abc.append(tr.text.strip())     \n",
    "    \n",
    "\" \".join(abc)"
   ]
  },
  {
   "cell_type": "code",
   "execution_count": null,
   "metadata": {
    "collapsed": true
   },
   "outputs": [],
   "source": []
  }
 ],
 "metadata": {
  "kernelspec": {
   "display_name": "Python 3",
   "language": "python",
   "name": "python3"
  },
  "language_info": {
   "codemirror_mode": {
    "name": "ipython",
    "version": 3
   },
   "file_extension": ".py",
   "mimetype": "text/x-python",
   "name": "python",
   "nbconvert_exporter": "python",
   "pygments_lexer": "ipython3",
   "version": "3.6.1"
  }
 },
 "nbformat": 4,
 "nbformat_minor": 2
}
